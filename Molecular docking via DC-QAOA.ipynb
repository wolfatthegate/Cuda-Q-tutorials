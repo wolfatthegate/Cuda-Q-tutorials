{
 "cells": [
  {
   "cell_type": "markdown",
   "id": "d5b1f24a-bf74-440a-bcc3-744d253ff70e",
   "metadata": {},
   "source": [
    "The data of the clique graph for the molecular docking are taken from this paper [https://arxiv.org/pdf/2308.04098]"
   ]
  },
  {
   "cell_type": "code",
   "execution_count": 1,
   "id": "06eb16ce-1d1b-40ad-9dc5-d2ac04e74be4",
   "metadata": {},
   "outputs": [],
   "source": [
    "import cudaq\n",
    "from cudaq import spin\n",
    "import numpy as np\n",
    "\n",
    "# GPU: Default If an NVIDIA GPU and CUDA runtime libraries are available\n",
    "#cudaq.set_target('nvidia')\n",
    "\n",
    "# CPU\n",
    "cudaq.set_target('qpp-cpu')\n"
   ]
  },
  {
   "cell_type": "code",
   "execution_count": 2,
   "id": "6f4b6f7e-796c-4bd1-a8ba-bbe149abdd96",
   "metadata": {},
   "outputs": [
    {
     "name": "stdout",
     "output_type": "stream",
     "text": [
      "Edges:  [[0, 1], [0, 2], [0, 4], [0, 5], [1, 2], [1, 3], [1, 5], [2, 3], [2, 4], [3, 4], [3, 5], [4, 5]]\n",
      "Non-Edges:  [[0, 3], [1, 4], [2, 5]]\n"
     ]
    }
   ],
   "source": [
    "# The two graphs input from the paper\n",
    "\n",
    "# BIG 1\n",
    "\n",
    "nodes = [0,1,2,3,4,5]\n",
    "qubit_num=len(nodes)\n",
    "edges = [[0,1],[0,2],[0,4],[0,5],[1,2],[1,3],[1,5],[2,3],[2,4],[3,4],[3,5],[4,5]]\n",
    "non_edges = [[u,v] for u in nodes for v in nodes if u<v and [u,v] not in edges]\n",
    "print('Edges: ', edges)\n",
    "print('Non-Edges: ', non_edges)\n",
    "weights = [0.6686,0.6686,0.6686,0.1453,0.1453,0.1453]\n",
    "penalty = 6.0\n",
    "num_layers = 3\n",
    "\n",
    "# BIG 2 (More expensive simulation)\n",
    "\n",
    "#nodes=[0,1,2,3,4,5,6,7]\n",
    "#qubit_num=len(nodes)\n",
    "#edges=[[0,1],[0,2],[0,5],[0,6],[0,7],[1,2],[1,4],[1,6],[1,7],[2,4],[2,5],[2,7],[3,4],[3,5],[3,6],\\\n",
    "#    [4,5],[4,6],[5,6]]\n",
    "#non_edges=[[u,v] for u in nodes for v in nodes if u<v and [u,v] not in edges]\n",
    "#print('Edges: ', edges)\n",
    "#print('Non-edges: ', non_edges)\n",
    "#weights=[0.6686,0.6686,0.6886,0.1091,0.0770,0.0770,0.0770,0.0770]\n",
    "#penalty=8.0\n",
    "#num_layers=8"
   ]
  },
  {
   "cell_type": "code",
   "execution_count": 3,
   "id": "f8280e33-a29f-4b00-bd46-cb547009387b",
   "metadata": {},
   "outputs": [],
   "source": [
    "# Generate the Hamiltonian\n",
    "def ham_clique(penalty, nodes, weights, non_edges)-> cudaq.SpinOperator:\n",
    "\n",
    "    spin_ham = 0.0\n",
    "    for wt,node in zip(weights,nodes):\n",
    "        #print(wt,node)\n",
    "        spin_ham += 0.5 * wt * spin.z(node)\n",
    "        spin_ham -= 0.5 * wt * spin.i(node)\n",
    "\n",
    "    for non_edge in non_edges:\n",
    "        u,v=(non_edge[0],non_edge[1])\n",
    "        #print(u,v)\n",
    "        spin_ham += penalty/4.0 * (spin.z(u)*spin.z(v)-spin.z(u)-spin.z(v)+spin.i(u)*spin.i(v))\n",
    "\n",
    "    return spin_ham"
   ]
  },
  {
   "cell_type": "code",
   "execution_count": 4,
   "id": "b1c35dc6-9525-4ce6-9c5d-22bead2faeda",
   "metadata": {},
   "outputs": [],
   "source": [
    "# Collect coefficients from a spin operator so we can pass them to a kernel\n",
    "def term_coefficients(ham: cudaq.SpinOperator) -> list[complex]:\n",
    "    result = []\n",
    "    ham.for_each_term(lambda term: result.append(term.get_coefficient()))\n",
    "    return result\n",
    "\n",
    "    # Collect Pauli words from a spin operator so we can pass them to a kernel\n",
    "def term_words(ham: cudaq.SpinOperator) -> list[str]:\n",
    "    result = []\n",
    "    ham.for_each_term(lambda term: result.append(term.to_string(False)))\n",
    "    return result"
   ]
  },
  {
   "cell_type": "code",
   "execution_count": 5,
   "id": "99ba9a33-3d73-4284-96b7-1c823e88a9ab",
   "metadata": {},
   "outputs": [],
   "source": [
    "@cudaq.kernel\n",
    "def dc_qaoa(qubit_num:int, num_layers:int,thetas:list[float],\\\n",
    "    coef:list[complex], words:list[cudaq.pauli_word]):\n",
    "\n",
    "    qubits=cudaq.qvector(qubit_num)\n",
    "\n",
    "    h(qubits)\n",
    "\n",
    "    count=0\n",
    "    for p in range(num_layers):\n",
    "\n",
    "        for i in range(len(coef)):\n",
    "            exp_pauli(thetas[count]*coef[i].real,qubits,words[i])\n",
    "            count+=1\n",
    "\n",
    "        for j in range(qubit_num):\n",
    "            rx(thetas[count],qubits[j])\n",
    "            count+=1\n",
    "\n",
    "        for k in range(qubit_num):\n",
    "            ry(thetas[count],qubits[k])\n",
    "            count+=1"
   ]
  },
  {
   "cell_type": "code",
   "execution_count": null,
   "id": "6ec57da8-aae0-48bf-bef4-dfc217013e60",
   "metadata": {},
   "outputs": [],
   "source": []
  },
  {
   "cell_type": "code",
   "execution_count": 6,
   "id": "3b8f1d93-54de-4e35-95d8-07af68c21a33",
   "metadata": {},
   "outputs": [
    {
     "name": "stdout",
     "output_type": "stream",
     "text": [
      "(0+0i) + (-1.1657+0i) * Z0 + (-0.3343+0i) * I0 + (-1.1657+0i) * Z1 + (-0.3343+0i) * I1 + (-1.1657+0i) * Z2 + (-0.3343+0i) * I2 + (-1.42735+0i) * Z3 + (-0.07265+0i) * I3 + (-1.42735+0i) * Z4 + (-0.07265+0i) * I4 + (-1.42735+0i) * Z5 + (-0.07265+0i) * I5 + (1.5+0i) * Z0Z3 + (1.5+0i) * I0I3 + (1.5+0i) * Z1Z4 + (1.5+0i) * I1I4 + (1.5+0i) * Z2Z5 + (1.5+0i) * I2I5\n",
      "[0j, (-1.1657+0j), (-0.3343-0j), (-1.1657+0j), (-0.3343-0j), (-1.1657+0j), (-0.3343-0j), (-1.42735+0j), (-0.07265-0j), (-1.42735+0j), (-0.07265-0j), (-1.42735+0j), (-0.07265-0j), (1.5+0j), (1.5+0j), (1.5+0j), (1.5+0j), (1.5+0j), (1.5+0j)]\n",
      "['', 'Z', 'I', 'IZ', 'II', 'IIZ', 'III', 'IIIZ', 'IIII', 'IIIIZ', 'IIIII', 'IIIIIZ', 'IIIIII', 'ZIIZ', 'IIII', 'IZIIZ', 'IIIII', 'IIZIIZ', 'IIIIII']\n"
     ]
    },
    {
     "name": "stderr",
     "output_type": "stream",
     "text": [
      "/tmp/ipykernel_20465/2582099611.py:4: DeprecationWarning: use standard iteration instead\n",
      "  ham.for_each_term(lambda term: result.append(term.get_coefficient()))\n",
      "/tmp/ipykernel_20465/2582099611.py:4: DeprecationWarning: use `evaluate_coefficient` on each term (product operator) instead\n",
      "  ham.for_each_term(lambda term: result.append(term.get_coefficient()))\n",
      "/tmp/ipykernel_20465/2582099611.py:10: DeprecationWarning: use standard iteration instead\n",
      "  ham.for_each_term(lambda term: result.append(term.to_string(False)))\n",
      "/tmp/ipykernel_20465/2582099611.py:10: DeprecationWarning: use overload without boolean argument or `get_pauli_word` on each term instead\n",
      "  ham.for_each_term(lambda term: result.append(term.to_string(False)))\n"
     ]
    }
   ],
   "source": [
    "ham= ham_clique(penalty,nodes,weights,non_edges)\n",
    "print(ham)\n",
    "\n",
    "# coef=term_coefficients(ham)\n",
    "# words=term_words(ham)\n",
    "\n",
    "# I copied this from tutorial\n",
    "coef= [(1.5+0j), (1.5+0j), (-1.1657+0j), (1.5+0j), (-1.42735+0j), (3.2791499999999996+0j), (-1.1657+0j), (-1.42735+0j), (-1.1657+0j), (-1.42735+0j)]\n",
    "words= ['IIZIIZ', 'ZIIZII', 'IZIIII', 'IZIIZI', 'IIIZII', 'IIIIII', 'IIZIII', 'IIIIIZ', 'ZIIIII', 'IIIIZI']\n",
    "\n",
    "print(term_coefficients(ham))\n",
    "print(term_words(ham))"
   ]
  },
  {
   "cell_type": "code",
   "execution_count": 7,
   "id": "03c11689-aad8-422e-a9ea-7c4915bc446e",
   "metadata": {},
   "outputs": [
    {
     "name": "stdout",
     "output_type": "stream",
     "text": [
      "Total number of parameters:  66\n",
      "Initial parameters =  [0.21810696323572243, -0.20613464375211488, 0.2546877639814583, 0.3657985647468064, 0.37118004688049144, -0.03656087558321203, 0.08564174998504231, 0.21639801853794682, 0.11122286088634259, 0.1743727097033635, -0.36518146001762486, -0.15829741539542244, -0.3467434780387345, 0.28043500852894776, -0.09986021299050934, 0.14125225086023052, -0.19141728018199775, -0.11970943368650361, -0.3853063093646483, -0.1112643868789806, 0.3527177454825464, -0.22156160012057186, -0.1418496891385843, 0.32811766468303116, -0.367642000671186, -0.34158180583996006, 0.10196745745501312, 0.29359239180502594, -0.3858537615546677, 0.19366130907065582, 0.24570488114056754, -0.3332307385378807, 0.12287973244618389, 0.007274514934614895, -0.015799547372526146, 0.3578070967202224, -0.39268963055535144, -0.19872246354138554, 0.16668715544467982, -0.13777293592446055, -0.17514665212709513, 0.15350249947988204, 0.32872977428061945, -0.20068831419712105, -0.032919322131134854, -0.19399909325771983, -0.09477141125241506, 0.08210460401106645, 0.21392577760158515, -0.3393568044538389, 0.14615087942938465, 0.03790339186006314, -0.2843250892879255, -0.3151384847055956, -0.19983741137121905, -0.27348611567665115, 0.33457528180906904, 0.14145414847455462, -0.20604220093940323, 0.05410235084309195, 0.04447870918600966, -0.3355714098595045, 0.266806440171265, -0.07436189654442632, -0.2789176729721685, -0.2427508182662484]\n"
     ]
    }
   ],
   "source": [
    "# Optimizer\n",
    "\n",
    "# Specify the optimizer and its initial parameters.\n",
    "optimizer = cudaq.optimizers.NelderMead()\n",
    "#optimizer = cudaq.optimizers.COBYLA()\n",
    "\n",
    "np.random.seed(13)\n",
    "cudaq.set_random_seed(13)\n",
    "\n",
    "# if dc_qaoa used\n",
    "parameter_count=(2*qubit_num+len(coef))*num_layers\n",
    "\n",
    "# if qaoa used\n",
    "# parameter_count=(qubit_num+len(coef))*num_layers\n",
    "\n",
    "print('Total number of parameters: ', parameter_count)\n",
    "optimizer.initial_parameters = np.random.uniform(-np.pi/8 , np.pi/8 ,parameter_count)\n",
    "print(\"Initial parameters = \", optimizer.initial_parameters)"
   ]
  },
  {
   "cell_type": "code",
   "execution_count": 8,
   "id": "2b72b0e1-7d07-4c53-bbd6-085631ec82fd",
   "metadata": {},
   "outputs": [
    {
     "name": "stdout",
     "output_type": "stream",
     "text": [
      "optimal_expectation = -2.0057970170760537\n",
      "optimal_parameters = [2.0617900450255213, -0.008832997414504553, 0.5446745231437978, 0.9170743966952536, 0.5684145055308018, 0.45653992738579674, 0.48765328828009236, 0.08690545932812363, 0.4396413285058074, 0.18459993158979182, -1.309747594917737, 1.2588385005776594, -0.834255663515425, 0.674712608431175, -0.40174553656823186, 0.1936475123928361, 0.11292461472367524, -0.40520422214477836, 0.5249647407525035, -0.8276837818165452, 0.2945660883282474, -0.8060498989662159, 0.08051672267342141, 0.016438756265571293, 1.5245041151262497, 1.4087477995498743, 0.24688680789607903, 2.1121838066265077, 1.1445970943333728, -0.22281558391261153, 0.29034932090910637, -1.0492037973620043, 0.2734013684834806, 0.5265417924961102, 0.5099056677967553, 0.8636684922225737, -0.6164906874232119, -0.42851259141848624, 0.09675272347583658, 0.05697275350531247, -0.7102412317670379, -0.11174687408874051, 0.32505750242276577, -0.4397450017834574, -0.023604090020531092, 2.072436348972407, -0.38357054930488194, 0.13613334013073858, -0.10505045798768743, 2.0359359294549595, -0.24377425227508304, 0.10609870738840588, -0.2073332743736556, 0.07232539343493427, -0.6190529241716675, -0.03799182564866846, 0.17548654124993912, 0.5257077568577536, -0.23376653076971432, 0.3391308272563698, 0.4193139961661264, 0.02390444901420668, 0.2521154835623746, 1.1843328649807838, -0.6609672889772077, -0.2612231428844001]\n"
     ]
    }
   ],
   "source": [
    "cost_values=[]\n",
    "def objective(parameters):\n",
    "\n",
    "    cost=cudaq.observe(dc_qaoa, ham, qubit_num, num_layers, parameters,coef,words).expectation()\n",
    "    cost_values.append(cost)\n",
    "    return cost\n",
    "\n",
    "# Optimize!\n",
    "optimal_expectation, optimal_parameters = optimizer.optimize(\n",
    "    dimensions=parameter_count, function=objective)\n",
    "\n",
    "print('optimal_expectation =', optimal_expectation)\n",
    "print('optimal_parameters =', optimal_parameters)"
   ]
  },
  {
   "cell_type": "code",
   "execution_count": 14,
   "id": "0d5a5164-3f68-4255-b5de-48cd11bf6d30",
   "metadata": {},
   "outputs": [
    {
     "name": "stdout",
     "output_type": "stream",
     "text": [
      "{ 111000:10000 }\n",
      "\n",
      "The MVWCP is given by the partition:  111000\n",
      "The MVWCP is given by the partition:  111000\n"
     ]
    }
   ],
   "source": [
    "shots=10000\n",
    "\n",
    "counts = cudaq.sample(dc_qaoa, qubit_num, num_layers, optimal_parameters,coef,words, shots_count=shots)\n",
    "print(counts)\n",
    "\n",
    "print('The MVWCP is given by the partition: ', max(counts, key=lambda x: counts[x]))\n",
    "\n",
    "# Alternative\n",
    "print('The MVWCP is given by the partition: ', counts.most_probable())"
   ]
  },
  {
   "cell_type": "code",
   "execution_count": 15,
   "id": "1009c18e-80f5-4313-bd92-cbcdc7bf5520",
   "metadata": {},
   "outputs": [
    {
     "data": {
      "image/png": "[encoded data removed]",
      "text/plain": [
       "<Figure size 640x480 with 1 Axes>"
      ]
     },
     "metadata": {},
     "output_type": "display_data"
    }
   ],
   "source": [
    "import matplotlib.pyplot as plt\n",
    "\n",
    "x_values = list(range(len(cost_values)))\n",
    "y_values = cost_values\n",
    "\n",
    "plt.plot(x_values, y_values)\n",
    "\n",
    "plt.xlabel(\"Epochs\")\n",
    "plt.ylabel(\"Cost Value\")\n",
    "plt.show()"
   ]
  },
  {
   "cell_type": "code",
   "execution_count": null,
   "id": "c75a26e6-9f66-43be-8a8a-cd7cce95158d",
   "metadata": {},
   "outputs": [],
   "source": []
  }
 ],
 "metadata": {
  "kernelspec": {
   "display_name": "Python 3 (ipykernel)",
   "language": "python",
   "name": "python3"
  },
  "language_info": {
   "codemirror_mode": {
    "name": "ipython",
    "version": 3
   },
   "file_extension": ".py",
   "mimetype": "text/x-python",
   "name": "python",
   "nbconvert_exporter": "python",
   "pygments_lexer": "ipython3",
   "version": "3.11.9"
  }
 },
 "nbformat": 4,
 "nbformat_minor": 5
}
