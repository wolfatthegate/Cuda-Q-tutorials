{
 "cells": [
  {
   "cell_type": "code",
   "execution_count": 2,
   "id": "d5345dd6-9123-4ca3-b6f0-071ed0f92b82",
   "metadata": {},
   "outputs": [],
   "source": [
    "def encoded_integer(binary_rep: list[int]):\n",
    "    \"\"\"Kernel takes as input a list of qubits and the binary representation\n",
    "    of an integer as a list. The kernel adds X-gates to the qubits to encode\n",
    "    the binary list, placing an X gate on qubit i if there is a 1 in the ith location\n",
    "    on the binary_rep list\"\"\"\n",
    "    # Edit code below this line\n",
    "    for i in range(len(binary_rep)):\n",
    "        if binary_rep[-1 - i] == 1:\n",
    "            print(1)\n",
    "        else: \n",
    "            print(0)"
   ]
  },
  {
   "cell_type": "code",
   "execution_count": 3,
   "id": "ab26967e-1da2-43c5-8e3d-c7919edd994b",
   "metadata": {},
   "outputs": [
    {
     "name": "stdout",
     "output_type": "stream",
     "text": [
      "1\n",
      "0\n",
      "0\n",
      "1\n"
     ]
    }
   ],
   "source": [
    "encoded_integer([1,0,0,1])"
   ]
  },
  {
   "cell_type": "code",
   "execution_count": 4,
   "id": "a07b446e-c450-4403-b19c-ee02de937860",
   "metadata": {},
   "outputs": [],
   "source": [
    "def decimal_to_binary_list(number):\n",
    "    # Check if the input number is valid (non-negative integer)\n",
    "    if number < 0:\n",
    "        raise ValueError(\"Number must be a non-negative integer.\")\n",
    "\n",
    "    # Convert the number to binary using bin() function and strip the '0b' prefix\n",
    "    binary_string = bin(number)[2:]\n",
    "\n",
    "    # Convert the binary string to a list of integers (0s and 1s)\n",
    "    binary_list = [int(bit) for bit in binary_string]\n",
    "\n",
    "    return binary_list"
   ]
  },
  {
   "cell_type": "code",
   "execution_count": 5,
   "id": "2611768b-4b0b-4046-90c4-fe50c4704477",
   "metadata": {},
   "outputs": [
    {
     "name": "stdout",
     "output_type": "stream",
     "text": [
      "[1, 0, 1, 0, 0]\n"
     ]
    }
   ],
   "source": [
    "print(decimal_to_binary_list(20))"
   ]
  },
  {
   "cell_type": "code",
   "execution_count": 12,
   "id": "ff8dd47e-dd7d-4b7e-afae-6f65fabe69ab",
   "metadata": {},
   "outputs": [
    {
     "name": "stdout",
     "output_type": "stream",
     "text": [
      "0\n",
      "0\n",
      "1\n",
      "0\n",
      "1\n"
     ]
    }
   ],
   "source": [
    "encoded_integer([1, 0, 1, 0, 0])"
   ]
  },
  {
   "cell_type": "code",
   "execution_count": 7,
   "id": "f537a57c-28ef-4c7b-a9e9-f51086503c9b",
   "metadata": {},
   "outputs": [],
   "source": [
    "enclist = []\n",
    "enclist.append(1)\n",
    "enclist.append(0)"
   ]
  },
  {
   "cell_type": "code",
   "execution_count": 8,
   "id": "8c40bd5e-6837-4de6-a6d8-41fb85f97632",
   "metadata": {},
   "outputs": [
    {
     "data": {
      "text/plain": [
       "[1, 0]"
      ]
     },
     "execution_count": 8,
     "metadata": {},
     "output_type": "execute_result"
    }
   ],
   "source": [
    "enclist"
   ]
  },
  {
   "cell_type": "code",
   "execution_count": null,
   "id": "b284f327-6868-4d42-a5d8-08f0f59e4e66",
   "metadata": {},
   "outputs": [],
   "source": []
  }
 ],
 "metadata": {
  "kernelspec": {
   "display_name": "Python 3 (ipykernel)",
   "language": "python",
   "name": "python3"
  },
  "language_info": {
   "codemirror_mode": {
    "name": "ipython",
    "version": 3
   },
   "file_extension": ".py",
   "mimetype": "text/x-python",
   "name": "python",
   "nbconvert_exporter": "python",
   "pygments_lexer": "ipython3",
   "version": "3.11.9"
  }
 },
 "nbformat": 4,
 "nbformat_minor": 5
}
