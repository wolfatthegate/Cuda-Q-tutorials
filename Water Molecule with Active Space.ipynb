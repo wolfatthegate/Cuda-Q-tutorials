{
 "cells": [
  {
   "cell_type": "markdown",
   "id": "998a7d50-5305-47a1-95da-2bd20fa7fd16",
   "metadata": {},
   "source": [
    "### Water Molecule with Active Space (CPU vs. GPU)\n",
    "#### A- Classical simulation as a reference: CCSD"
   ]
  },
  {
   "cell_type": "code",
   "execution_count": 4,
   "id": "269443f7-42a8-4b7b-b13b-556f909c171e",
   "metadata": {},
   "outputs": [],
   "source": [
    "# Install the relevant packages.\n",
    "# !pip install pyscf==2.6.2\n",
    "# !pip install openfermionpyscf==0.5\n",
    "# !pip install matplotlib==3.8.4\n",
    "# !pip install openfermion==1.6.1"
   ]
  },
  {
   "cell_type": "code",
   "execution_count": 2,
   "id": "db9bbeeb-e062-4e07-8add-43971e184a07",
   "metadata": {},
   "outputs": [
    {
     "name": "stdout",
     "output_type": "stream",
     "text": [
      "converged SCF energy = -75.983975537279\n",
      "Total number of electrons =  10\n",
      "Total number of orbitals =  13\n",
      "ncore occupied orbitals =  3\n",
      "E(CCSD) = -75.98508980454683  E_corr = -0.001114267267875589\n",
      "Total CCSD energy for active space Hamiltonian =  -75.98508980454683 \n",
      "\n"
     ]
    }
   ],
   "source": [
    "from pyscf import gto, scf, mcscf, cc\n",
    "\n",
    "geometry ='O 0.1173 0.0 0.0; H -0.4691 0.7570 0.0; H -0.4691 -0.7570 0.0'\n",
    "mol=gto.M(\n",
    "    atom = geometry,\n",
    "    spin = 0,\n",
    "    charge = 0,\n",
    "    basis = '631g',\n",
    ")\n",
    "\n",
    "myhf = scf.RHF(mol)\n",
    "myhf.max_cycle=100\n",
    "myhf.kernel()\n",
    "nelec = mol.nelectron\n",
    "print('Total number of electrons = ', nelec)\n",
    "norb = myhf.mo_coeff.shape[1]\n",
    "print('Total number of orbitals = ', norb)\n",
    "\n",
    "norb_cas, nele_cas = (4,4)\n",
    "mycasci = mcscf.CASCI(myhf, norb_cas, nele_cas)\n",
    "print('ncore occupied orbitals = ', mycasci.ncore)\n",
    "\n",
    "frozen = []\n",
    "frozen += [y for y in range(0,mycasci.ncore)]\n",
    "frozen += [y for y in range(mycasci.ncore+norb_cas, len(mycasci.mo_coeff))]\n",
    "mycc = cc.CCSD(myhf,frozen=frozen).run()\n",
    "print('Total CCSD energy for active space Hamiltonian = ', mycc.e_tot, '\\n')"
   ]
  },
  {
   "cell_type": "markdown",
   "id": "e5c05824-6825-4f99-a38c-b950622e109d",
   "metadata": {},
   "source": [
    "#### B- VQE-UCCSD:"
   ]
  },
  {
   "cell_type": "code",
   "execution_count": 3,
   "id": "cc6b81e7-7161-464b-b418-8905e4604418",
   "metadata": {},
   "outputs": [
    {
     "name": "stdout",
     "output_type": "stream",
     "text": [
      "\u001b[38;2;255;000;000m[warning] \u001b[0m\u001b[38;2;000;000;255mTarget nvidia-fp64: This target is deprecating. Please use the 'nvidia' target with option 'fp64' by adding the command line option '--target-option fp64' or passing it as cudaq.set_target('nvidia', option='fp64') in Python. Please refer to CUDA-Q \u001b]8;;https://nvidia.github.io/cuda-quantum/latest/using/backends/simulators.html#single-gpu\u001b\\documentation\u001b]8;;\u001b\\ for more information.\n",
      "\u001b[0m"
     ]
    },
    {
     "name": "stderr",
     "output_type": "stream",
     "text": [
      "/tmp/ipykernel_23764/4290935201.py:35: ComplexWarning: Casting complex values to real discards the imaginary part\n",
      "  spin_ham = cudaq.SpinOperator(qubit_hamiltonian)\n"
     ]
    },
    {
     "name": "stdout",
     "output_type": "stream",
     "text": [
      "UCCSD-VQE energy =   -75.98435434872577\n",
      "Pyscf-CCSD energy =  -75.98508980454683\n",
      "Total number of qubits =  8\n",
      "Total number of parameters =  26\n",
      "Total number of terms in the spin hamiltonian =  105\n",
      "Total elapsed time (s) =  9.70618656600709\n"
     ]
    },
    {
     "name": "stderr",
     "output_type": "stream",
     "text": [
      "/tmp/ipykernel_23764/4290935201.py:79: DeprecationWarning: use `term_count` instead\n",
      "  print('Total number of terms in the spin hamiltonian = ',spin_ham.get_term_count())\n"
     ]
    },
    {
     "data": {
      "image/png": "[encoded data removed]",
      "text/plain": [
       "<Figure size 640x480 with 1 Axes>"
      ]
     },
     "metadata": {},
     "output_type": "display_data"
    }
   ],
   "source": [
    "import openfermion\n",
    "import openfermionpyscf\n",
    "from openfermion.transforms import jordan_wigner, get_fermion_operator\n",
    "\n",
    "import timeit\n",
    "\n",
    "\n",
    "import cudaq\n",
    "import matplotlib.pyplot as plt\n",
    "from scipy.optimize import minimize\n",
    "import numpy as np\n",
    "\n",
    "# GPU\n",
    "cudaq.set_target(\"nvidia-fp64\")\n",
    "# CPU\n",
    "#cudaq.set_target(\"qpp-cpu\")\n",
    "\n",
    "# 1- Classical pre-processing:\n",
    "\n",
    "geometry = [('O', (0.1173,0.0,0.0)), ('H', (-0.4691,0.7570,0.0)), ('H', (-0.4691,-0.7570,0.0))]\n",
    "basis = '631g'\n",
    "multiplicity = 1\n",
    "charge = 0\n",
    "ncore = 3\n",
    "norb_cas, nele_cas = (4,4)\n",
    "\n",
    "molecule = openfermionpyscf.run_pyscf(openfermion.MolecularData(geometry, basis, multiplicity,charge))\n",
    "\n",
    "molecular_hamiltonian = molecule.get_molecular_hamiltonian(\n",
    "        occupied_indices=range(ncore), active_indices=range(ncore, ncore + norb_cas))\n",
    "\n",
    "fermion_hamiltonian = get_fermion_operator(molecular_hamiltonian)\n",
    "qubit_hamiltonian = jordan_wigner(fermion_hamiltonian)\n",
    "\n",
    "spin_ham = cudaq.SpinOperator(qubit_hamiltonian)\n",
    "\n",
    "# 2- Quantum computing using UCCSD ansatz\n",
    "\n",
    "electron_count = nele_cas\n",
    "qubit_count = 2*norb_cas\n",
    "\n",
    "@cudaq.kernel\n",
    "def kernel(qubit_num:int, electron_num:int, thetas: list[float]):\n",
    "        qubits = cudaq.qvector(qubit_num)\n",
    "\n",
    "        for i in range(electron_num):\n",
    "                x(qubits[i])\n",
    "\n",
    "        cudaq.kernels.uccsd(qubits, thetas, electron_num, qubit_num)\n",
    "\n",
    "parameter_count = cudaq.kernels.uccsd_num_parameters(electron_count,qubit_count)\n",
    "\n",
    "# Define a function to minimize\n",
    "def cost(theta):\n",
    "\n",
    "        exp_val = cudaq.observe(kernel, spin_ham, qubit_count, electron_count, theta).expectation()\n",
    "\n",
    "        return exp_val\n",
    "\n",
    "\n",
    "exp_vals = []\n",
    "\n",
    "def callback(xk):\n",
    "        exp_vals.append(cost(xk))\n",
    "\n",
    "# Initial variational parameters.\n",
    "np.random.seed(42)\n",
    "x0 = np.random.normal(0, 1, parameter_count)\n",
    "\n",
    "# Use the scipy optimizer to minimize the function of interest\n",
    "start_time = timeit.default_timer()\n",
    "result = minimize(cost, x0, method='COBYLA', callback=callback, options={'maxiter': 300})\n",
    "end_time = timeit.default_timer()\n",
    "\n",
    "print('UCCSD-VQE energy =  ', result.fun)\n",
    "print('Pyscf-CCSD energy = ', mycc.e_tot)\n",
    "print('Total number of qubits = ', qubit_count)\n",
    "print('Total number of parameters = ', parameter_count)\n",
    "print('Total number of terms in the spin hamiltonian = ',spin_ham.get_term_count())\n",
    "print('Total elapsed time (s) = ', end_time-start_time)\n",
    "\n",
    "plt.plot(exp_vals)\n",
    "plt.xlabel('Epochs')\n",
    "plt.ylabel('Energy')\n",
    "plt.title('VQE')\n",
    "plt.show()"
   ]
  },
  {
   "cell_type": "code",
   "execution_count": null,
   "id": "b545cdf6-b94b-4e18-bd1b-33da8e758157",
   "metadata": {},
   "outputs": [],
   "source": []
  }
 ],
 "metadata": {
  "kernelspec": {
   "display_name": "Python 3 (ipykernel)",
   "language": "python",
   "name": "python3"
  },
  "language_info": {
   "codemirror_mode": {
    "name": "ipython",
    "version": 3
   },
   "file_extension": ".py",
   "mimetype": "text/x-python",
   "name": "python",
   "nbconvert_exporter": "python",
   "pygments_lexer": "ipython3",
   "version": "3.11.9"
  }
 },
 "nbformat": 4,
 "nbformat_minor": 5
}
