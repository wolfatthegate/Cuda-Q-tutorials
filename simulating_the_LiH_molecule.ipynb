{
 "cells": [
  {
   "cell_type": "markdown",
   "metadata": {
    "colab_type": "text",
    "id": "view-in-github"
   },
   "source": [
    "<a href=\"https://colab.research.google.com/github/wolfatthegate/Cuda-Q-tutorials/blob/main/simulating_the_LiH_molecule.ipynb\" target=\"_parent\"><img src=\"https://colab.research.google.com/assets/colab-badge.svg\" alt=\"Open In Colab\"/></a>"
   ]
  },
  {
   "cell_type": "code",
   "execution_count": 1,
   "metadata": {
    "colab": {
     "base_uri": "https://localhost:8080/"
    },
    "id": "X_qG--Sp9T_K",
    "outputId": "59c1a1d6-4d03-4f09-8a70-2bd4be7e8a81"
   },
   "outputs": [
    {
     "name": "stdout",
     "output_type": "stream",
     "text": [
      "Requirement already satisfied: cudaq in /home/wluo1/anaconda3/lib/python3.11/site-packages (0.12.0.post1)\n",
      "Requirement already satisfied: cuda-quantum-cu12==0.12.0.post1 in /home/wluo1/anaconda3/lib/python3.11/site-packages (from cudaq) (0.12.0.post1)\n",
      "Requirement already satisfied: astpretty~=3.0 in /home/wluo1/anaconda3/lib/python3.11/site-packages (from cuda-quantum-cu12==0.12.0.post1->cudaq) (3.0.0)\n",
      "Requirement already satisfied: cuquantum-cu12>=25.06 in /home/wluo1/anaconda3/lib/python3.11/site-packages (from cuda-quantum-cu12==0.12.0.post1->cudaq) (25.9.0)\n",
      "Requirement already satisfied: numpy>=1.24 in /home/wluo1/anaconda3/lib/python3.11/site-packages (from cuda-quantum-cu12==0.12.0.post1->cudaq) (1.26.4)\n",
      "Requirement already satisfied: scipy>=1.10.1 in /home/wluo1/anaconda3/lib/python3.11/site-packages (from cuda-quantum-cu12==0.12.0.post1->cudaq) (1.13.1)\n",
      "Requirement already satisfied: requests>=2.31 in /home/wluo1/anaconda3/lib/python3.11/site-packages (from cuda-quantum-cu12==0.12.0.post1->cudaq) (2.32.3)\n",
      "Requirement already satisfied: nvidia-cublas-cu12~=12.0 in /home/wluo1/anaconda3/lib/python3.11/site-packages (from cuda-quantum-cu12==0.12.0.post1->cudaq) (12.9.1.4)\n",
      "Requirement already satisfied: nvidia-curand-cu12~=10.3 in /home/wluo1/anaconda3/lib/python3.11/site-packages (from cuda-quantum-cu12==0.12.0.post1->cudaq) (10.3.10.19)\n",
      "Requirement already satisfied: nvidia-cusparse-cu12~=12.5 in /home/wluo1/anaconda3/lib/python3.11/site-packages (from cuda-quantum-cu12==0.12.0.post1->cudaq) (12.5.10.65)\n",
      "Requirement already satisfied: nvidia-cuda-runtime-cu12~=12.0 in /home/wluo1/anaconda3/lib/python3.11/site-packages (from cuda-quantum-cu12==0.12.0.post1->cudaq) (12.9.79)\n",
      "Requirement already satisfied: nvidia-cusolver-cu12~=11.4 in /home/wluo1/anaconda3/lib/python3.11/site-packages (from cuda-quantum-cu12==0.12.0.post1->cudaq) (11.7.5.82)\n",
      "Requirement already satisfied: nvidia-cuda-nvrtc-cu12~=12.0 in /home/wluo1/anaconda3/lib/python3.11/site-packages (from cuda-quantum-cu12==0.12.0.post1->cudaq) (12.9.86)\n",
      "Requirement already satisfied: cupy-cuda12x<=13.4.1,>=13.0.0 in /home/wluo1/anaconda3/lib/python3.11/site-packages (from cuda-quantum-cu12==0.12.0.post1->cudaq) (13.4.1)\n",
      "Requirement already satisfied: fastrlock>=0.5 in /home/wluo1/anaconda3/lib/python3.11/site-packages (from cupy-cuda12x<=13.4.1,>=13.0.0->cuda-quantum-cu12==0.12.0.post1->cudaq) (0.8.3)\n",
      "Requirement already satisfied: custatevec-cu12==1.10.0 in /home/wluo1/anaconda3/lib/python3.11/site-packages (from cuquantum-cu12>=25.06->cuda-quantum-cu12==0.12.0.post1->cudaq) (1.10.0)\n",
      "Requirement already satisfied: cutensornet-cu12==2.9.0 in /home/wluo1/anaconda3/lib/python3.11/site-packages (from cuquantum-cu12>=25.06->cuda-quantum-cu12==0.12.0.post1->cudaq) (2.9.0)\n",
      "Requirement already satisfied: cudensitymat-cu12==0.3.0 in /home/wluo1/anaconda3/lib/python3.11/site-packages (from cuquantum-cu12>=25.06->cuda-quantum-cu12==0.12.0.post1->cudaq) (0.3.0)\n",
      "Requirement already satisfied: cutensor-cu12<3,>=2.3.1 in /home/wluo1/anaconda3/lib/python3.11/site-packages (from cudensitymat-cu12==0.3.0->cuquantum-cu12>=25.06->cuda-quantum-cu12==0.12.0.post1->cudaq) (2.3.1)\n",
      "Requirement already satisfied: nvidia-nvjitlink-cu12 in /home/wluo1/anaconda3/lib/python3.11/site-packages (from nvidia-cusolver-cu12~=11.4->cuda-quantum-cu12==0.12.0.post1->cudaq) (12.9.86)\n",
      "Requirement already satisfied: charset-normalizer<4,>=2 in /home/wluo1/anaconda3/lib/python3.11/site-packages (from requests>=2.31->cuda-quantum-cu12==0.12.0.post1->cudaq) (3.3.2)\n",
      "Requirement already satisfied: idna<4,>=2.5 in /home/wluo1/anaconda3/lib/python3.11/site-packages (from requests>=2.31->cuda-quantum-cu12==0.12.0.post1->cudaq) (3.7)\n",
      "Requirement already satisfied: urllib3<3,>=1.21.1 in /home/wluo1/anaconda3/lib/python3.11/site-packages (from requests>=2.31->cuda-quantum-cu12==0.12.0.post1->cudaq) (2.2.2)\n",
      "Requirement already satisfied: certifi>=2017.4.17 in /home/wluo1/anaconda3/lib/python3.11/site-packages (from requests>=2.31->cuda-quantum-cu12==0.12.0.post1->cudaq) (2024.8.30)\n",
      "Requirement already satisfied: ipywidgets in /home/wluo1/anaconda3/lib/python3.11/site-packages (8.1.2)\n",
      "Requirement already satisfied: comm>=0.1.3 in /home/wluo1/anaconda3/lib/python3.11/site-packages (from ipywidgets) (0.2.1)\n",
      "Requirement already satisfied: ipython>=6.1.0 in /home/wluo1/anaconda3/lib/python3.11/site-packages (from ipywidgets) (8.27.0)\n",
      "Requirement already satisfied: traitlets>=4.3.1 in /home/wluo1/anaconda3/lib/python3.11/site-packages (from ipywidgets) (5.14.3)\n",
      "Requirement already satisfied: widgetsnbextension~=4.0.10 in /home/wluo1/anaconda3/lib/python3.11/site-packages (from ipywidgets) (4.0.10)\n",
      "Requirement already satisfied: jupyterlab-widgets~=3.0.10 in /home/wluo1/anaconda3/lib/python3.11/site-packages (from ipywidgets) (3.0.10)\n",
      "Requirement already satisfied: decorator in /home/wluo1/anaconda3/lib/python3.11/site-packages (from ipython>=6.1.0->ipywidgets) (5.1.1)\n",
      "Requirement already satisfied: jedi>=0.16 in /home/wluo1/anaconda3/lib/python3.11/site-packages (from ipython>=6.1.0->ipywidgets) (0.19.1)\n",
      "Requirement already satisfied: matplotlib-inline in /home/wluo1/anaconda3/lib/python3.11/site-packages (from ipython>=6.1.0->ipywidgets) (0.1.6)\n",
      "Requirement already satisfied: prompt-toolkit<3.1.0,>=3.0.41 in /home/wluo1/anaconda3/lib/python3.11/site-packages (from ipython>=6.1.0->ipywidgets) (3.0.43)\n",
      "Requirement already satisfied: pygments>=2.4.0 in /home/wluo1/anaconda3/lib/python3.11/site-packages (from ipython>=6.1.0->ipywidgets) (2.15.1)\n",
      "Requirement already satisfied: stack-data in /home/wluo1/anaconda3/lib/python3.11/site-packages (from ipython>=6.1.0->ipywidgets) (0.2.0)\n",
      "Requirement already satisfied: typing-extensions>=4.6 in /home/wluo1/anaconda3/lib/python3.11/site-packages (from ipython>=6.1.0->ipywidgets) (4.11.0)\n",
      "Requirement already satisfied: pexpect>4.3 in /home/wluo1/anaconda3/lib/python3.11/site-packages (from ipython>=6.1.0->ipywidgets) (4.8.0)\n",
      "Requirement already satisfied: parso<0.9.0,>=0.8.3 in /home/wluo1/anaconda3/lib/python3.11/site-packages (from jedi>=0.16->ipython>=6.1.0->ipywidgets) (0.8.3)\n",
      "Requirement already satisfied: ptyprocess>=0.5 in /home/wluo1/anaconda3/lib/python3.11/site-packages (from pexpect>4.3->ipython>=6.1.0->ipywidgets) (0.7.0)\n",
      "Requirement already satisfied: wcwidth in /home/wluo1/anaconda3/lib/python3.11/site-packages (from prompt-toolkit<3.1.0,>=3.0.41->ipython>=6.1.0->ipywidgets) (0.2.5)\n",
      "Requirement already satisfied: executing in /home/wluo1/anaconda3/lib/python3.11/site-packages (from stack-data->ipython>=6.1.0->ipywidgets) (0.8.3)\n",
      "Requirement already satisfied: asttokens in /home/wluo1/anaconda3/lib/python3.11/site-packages (from stack-data->ipython>=6.1.0->ipywidgets) (2.0.5)\n",
      "Requirement already satisfied: pure-eval in /home/wluo1/anaconda3/lib/python3.11/site-packages (from stack-data->ipython>=6.1.0->ipywidgets) (0.2.2)\n",
      "Requirement already satisfied: six in /home/wluo1/anaconda3/lib/python3.11/site-packages (from asttokens->stack-data->ipython>=6.1.0->ipywidgets) (1.16.0)\n",
      "Requirement already satisfied: matplotlib in /home/wluo1/anaconda3/lib/python3.11/site-packages (3.9.2)\n",
      "Requirement already satisfied: contourpy>=1.0.1 in /home/wluo1/anaconda3/lib/python3.11/site-packages (from matplotlib) (1.2.0)\n",
      "Requirement already satisfied: cycler>=0.10 in /home/wluo1/anaconda3/lib/python3.11/site-packages (from matplotlib) (0.11.0)\n",
      "Requirement already satisfied: fonttools>=4.22.0 in /home/wluo1/anaconda3/lib/python3.11/site-packages (from matplotlib) (4.51.0)\n",
      "Requirement already satisfied: kiwisolver>=1.3.1 in /home/wluo1/anaconda3/lib/python3.11/site-packages (from matplotlib) (1.4.4)\n",
      "Requirement already satisfied: numpy>=1.23 in /home/wluo1/anaconda3/lib/python3.11/site-packages (from matplotlib) (1.26.4)\n",
      "Requirement already satisfied: packaging>=20.0 in /home/wluo1/anaconda3/lib/python3.11/site-packages (from matplotlib) (24.1)\n",
      "Requirement already satisfied: pillow>=8 in /home/wluo1/anaconda3/lib/python3.11/site-packages (from matplotlib) (10.4.0)\n",
      "Requirement already satisfied: pyparsing>=2.3.1 in /home/wluo1/anaconda3/lib/python3.11/site-packages (from matplotlib) (3.1.2)\n",
      "Requirement already satisfied: python-dateutil>=2.7 in /home/wluo1/anaconda3/lib/python3.11/site-packages (from matplotlib) (2.9.0.post0)\n",
      "Requirement already satisfied: six>=1.5 in /home/wluo1/anaconda3/lib/python3.11/site-packages (from python-dateutil>=2.7->matplotlib) (1.16.0)\n",
      "Requirement already satisfied: qutip in /home/wluo1/anaconda3/lib/python3.11/site-packages (5.0.1)\n",
      "Requirement already satisfied: numpy>=1.22 in /home/wluo1/anaconda3/lib/python3.11/site-packages (from qutip) (1.26.4)\n",
      "Requirement already satisfied: scipy>=1.8 in /home/wluo1/anaconda3/lib/python3.11/site-packages (from qutip) (1.13.1)\n",
      "Requirement already satisfied: packaging in /home/wluo1/anaconda3/lib/python3.11/site-packages (from qutip) (24.1)\n",
      "replace cuda-q-academic-main/.gitignore? [y]es, [n]o, [A]ll, [N]one, [r]ename: ^C\n",
      "mv: cannot stat 'cuda-q-academic-main/quick-start-to-quantum/interactive_widget': No such file or directory\n"
     ]
    }
   ],
   "source": [
    "# Instructions for Google Colab. You can ignore this cell if you have cuda-q and ipywidgets set up\n",
    "# and have all the dependent files on your system\n",
    "# Run this notebook in a CPU runtime\n",
    "# Uncomment the lines below and execute the cell to install necessary packages and access necessary files.\n",
    "\n",
    "!pip install cudaq\n",
    "!pip install ipywidgets\n",
    "!pip install matplotlib\n",
    "!pip install qutip\n",
    "!wget -q https://github.com/nvidia/cuda-q-academic/archive/refs/heads/main.zip\n",
    "!unzip -q main.zip\n",
    "!mv cuda-q-academic-main/quick-start-to-quantum/interactive_widget ./interactive_widget"
   ]
  },
  {
   "cell_type": "markdown",
   "metadata": {
    "id": "ahcewdcy-ebJ"
   },
   "source": [
    "1. 🎯 Choose a Fermionic Excitation Term\n",
    "\n",
    "For LiH in minimal basis (e.g., STO-3G, frozen core), the active space is often mapped to 4 spin-orbitals → 4 qubits.\n",
    "\n",
    "A common single excitation term: \\\n",
    "$$ a_1^\\dagger a_0 - a_0^\\dagger a_1 $$ \\\n",
    "is mapped via Jordan-Wigner to: \\\n",
    "$$ i \\cdot Y_1 X_0 $$ \\\n",
    "And the corresponding unitary operator is: \\\n",
    "$$ U(\\theta) = e^{-i\\theta Y_1 X_0} $$  \n",
    "\n",
    "2. 🔁 Create a Gate for $ e^{-i \\theta Y_1 X_0} $\n",
    "\n",
    "Then implement this composite gate in CUDA-Q.\n",
    "\n",
    "CUDA-Q does not support arbitrary unitaries directly via matrices, so we decompose using standard gates:\n",
    "\n",
    "$$ e^{-i \\theta Y_1 X_0} = H_0 \\cdot RY_1(-\\frac{\\pi}{2}) \\cdot CX_{0,1} \\cdot RZ_1(2\\theta) \\cdot CX_{0,1} \\cdot RY_1(\\frac{\\pi}{2}) \\cdot H_0 $$\n",
    "\n"
   ]
  },
  {
   "cell_type": "code",
   "execution_count": 1,
   "metadata": {
    "id": "D54i-onB9Ol1"
   },
   "outputs": [],
   "source": [
    "import cudaq\n",
    "import numpy as np\n",
    "from cudaq import spin\n",
    "\n",
    "def custom_excitation_gate(q, theta):\n",
    "    \"\"\"Apply the unitary: exp(-i * θ * Y₁ X₀)\"\"\"\n",
    "    h(q[0])\n",
    "    ry(q[1], -np.pi / 2)\n",
    "\n",
    "    cx(q[0], q[1])\n",
    "    rz(q[1], 2 * theta)\n",
    "    cx(q[0], q[1])\n",
    "\n",
    "    ry(q[1], np.pi / 2)\n",
    "    h(q[0])\n",
    "\n",
    "@cudaq.kernel\n",
    "def vqe_ansatz(theta: float):\n",
    "    q = cudaq.qvector(4)\n",
    "\n",
    "    # Example entangling + excitation gate\n",
    "    x(q[0])\n",
    "    x(q[1])\n",
    "\n",
    "    # Apply custom fermionic excitation\n",
    "    custom_excitation_gate(q, theta)\n",
    "\n",
    "    # Add other gates as needed for full VQE ansatz"
   ]
  },
  {
   "cell_type": "markdown",
   "metadata": {
    "id": "FA1HxAwb-O5Z"
   },
   "source": [
    "A precomputed qubit Hamiltonian for LiH from OpenFermion or [Qiskit Nature]. Following is a sample in qubit form:"
   ]
  },
  {
   "cell_type": "code",
   "execution_count": 2,
   "metadata": {
    "id": "np33_XOe9tpQ"
   },
   "outputs": [],
   "source": [
    "from cudaq import spin\n",
    "\n",
    "# Define Pauli operators\n",
    "I   = spin.z(0) * 0  # Dummy term to define I\n",
    "Z0  = spin.z(0)\n",
    "Z1  = spin.z(1)\n",
    "Z2  = spin.z(2)\n",
    "Z3  = spin.z(3)\n",
    "X0  = spin.x(0)\n",
    "X1  = spin.x(1)\n",
    "X2  = spin.x(2)\n",
    "X3  = spin.x(3)\n",
    "Y0  = spin.y(0)\n",
    "Y1  = spin.y(1)\n",
    "Y2  = spin.y(2)\n",
    "Y3  = spin.y(3)\n",
    "\n",
    "# Construct LiH Hamiltonian\n",
    "H = ( 0.4644 * I\n",
    "    - 0.1220 * Z0\n",
    "    - 0.4650 * Z1\n",
    "    + 0.1200 * Z2\n",
    "    - 0.3435 * Z3\n",
    "    + 0.1743 * Z0 * Z1\n",
    "    + 0.1200 * Z0 * Z2\n",
    "    + 0.1659 * Z0 * Z3\n",
    "    + 0.1659 * Z1 * Z2\n",
    "    + 0.1200 * Z1 * Z3\n",
    "    + 0.1743 * Z2 * Z3\n",
    "    + 0.0453 * Y0 * X1 * X2 * Y3\n",
    "    - 0.0453 * Y0 * Y1 * X2 * X3\n",
    "    - 0.0453 * X0 * X1 * Y2 * Y3\n",
    "    + 0.0453 * X0 * Y1 * Y2 * X3\n",
    ")"
   ]
  },
  {
   "cell_type": "code",
   "execution_count": 5,
   "metadata": {
    "colab": {
     "background_save": true,
     "base_uri": "https://localhost:8080/"
    },
    "id": "xuv1y1ru980o",
    "outputId": "eb00ea29-def7-4bd5-8b26-4b78eff798b0"
   },
   "outputs": [
    {
     "ename": "AttributeError",
     "evalue": "'cudaq.mlir._mlir_libs._quakeDialects.cudaq_runtime' object has no attribute 'name'",
     "output_type": "error",
     "traceback": [
      "\u001b[0;31m---------------------------------------------------------------------------\u001b[0m",
      "\u001b[0;31mAttributeError\u001b[0m                            Traceback (most recent call last)",
      "Cell \u001b[0;32mIn[5], line 21\u001b[0m\n\u001b[1;32m     18\u001b[0m     \u001b[38;5;28;01mreturn\u001b[39;00m cudaq\u001b[38;5;241m.\u001b[39mobserve(H, kernel)\n\u001b[1;32m     20\u001b[0m \u001b[38;5;66;03m# Run the optimization\u001b[39;00m\n\u001b[0;32m---> 21\u001b[0m res \u001b[38;5;241m=\u001b[39m scipy\u001b[38;5;241m.\u001b[39moptimize\u001b[38;5;241m.\u001b[39mminimize(vqe_objective, [\u001b[38;5;241m0.1\u001b[39m], method\u001b[38;5;241m=\u001b[39m\u001b[38;5;124m'\u001b[39m\u001b[38;5;124mCOBYLA\u001b[39m\u001b[38;5;124m'\u001b[39m)\n\u001b[1;32m     23\u001b[0m \u001b[38;5;28mprint\u001b[39m(\u001b[38;5;124m\"\u001b[39m\u001b[38;5;124mOptimal θ:\u001b[39m\u001b[38;5;124m\"\u001b[39m, res\u001b[38;5;241m.\u001b[39mx)\n\u001b[1;32m     24\u001b[0m \u001b[38;5;28mprint\u001b[39m(\u001b[38;5;124m\"\u001b[39m\u001b[38;5;124mMinimum energy:\u001b[39m\u001b[38;5;124m\"\u001b[39m, res\u001b[38;5;241m.\u001b[39mfun)\n",
      "File \u001b[0;32m~/anaconda3/lib/python3.11/site-packages/scipy/optimize/_minimize.py:719\u001b[0m, in \u001b[0;36mminimize\u001b[0;34m(fun, x0, args, method, jac, hess, hessp, bounds, constraints, tol, callback, options)\u001b[0m\n\u001b[1;32m    716\u001b[0m     res \u001b[38;5;241m=\u001b[39m _minimize_tnc(fun, x0, args, jac, bounds, callback\u001b[38;5;241m=\u001b[39mcallback,\n\u001b[1;32m    717\u001b[0m                         \u001b[38;5;241m*\u001b[39m\u001b[38;5;241m*\u001b[39moptions)\n\u001b[1;32m    718\u001b[0m \u001b[38;5;28;01melif\u001b[39;00m meth \u001b[38;5;241m==\u001b[39m \u001b[38;5;124m'\u001b[39m\u001b[38;5;124mcobyla\u001b[39m\u001b[38;5;124m'\u001b[39m:\n\u001b[0;32m--> 719\u001b[0m     res \u001b[38;5;241m=\u001b[39m _minimize_cobyla(fun, x0, args, constraints, callback\u001b[38;5;241m=\u001b[39mcallback,\n\u001b[1;32m    720\u001b[0m                            bounds\u001b[38;5;241m=\u001b[39mbounds, \u001b[38;5;241m*\u001b[39m\u001b[38;5;241m*\u001b[39moptions)\n\u001b[1;32m    721\u001b[0m \u001b[38;5;28;01melif\u001b[39;00m meth \u001b[38;5;241m==\u001b[39m \u001b[38;5;124m'\u001b[39m\u001b[38;5;124mslsqp\u001b[39m\u001b[38;5;124m'\u001b[39m:\n\u001b[1;32m    722\u001b[0m     res \u001b[38;5;241m=\u001b[39m _minimize_slsqp(fun, x0, args, jac, bounds,\n\u001b[1;32m    723\u001b[0m                           constraints, callback\u001b[38;5;241m=\u001b[39mcallback, \u001b[38;5;241m*\u001b[39m\u001b[38;5;241m*\u001b[39moptions)\n",
      "File \u001b[0;32m~/anaconda3/lib/python3.11/site-packages/scipy/optimize/_cobyla_py.py:35\u001b[0m, in \u001b[0;36msynchronized.<locals>.wrapper\u001b[0;34m(*args, **kwargs)\u001b[0m\n\u001b[1;32m     32\u001b[0m \u001b[38;5;129m@functools\u001b[39m\u001b[38;5;241m.\u001b[39mwraps(func)\n\u001b[1;32m     33\u001b[0m \u001b[38;5;28;01mdef\u001b[39;00m \u001b[38;5;21mwrapper\u001b[39m(\u001b[38;5;241m*\u001b[39margs, \u001b[38;5;241m*\u001b[39m\u001b[38;5;241m*\u001b[39mkwargs):\n\u001b[1;32m     34\u001b[0m     \u001b[38;5;28;01mwith\u001b[39;00m _module_lock:\n\u001b[0;32m---> 35\u001b[0m         \u001b[38;5;28;01mreturn\u001b[39;00m func(\u001b[38;5;241m*\u001b[39margs, \u001b[38;5;241m*\u001b[39m\u001b[38;5;241m*\u001b[39mkwargs)\n",
      "File \u001b[0;32m~/anaconda3/lib/python3.11/site-packages/scipy/optimize/_cobyla_py.py:278\u001b[0m, in \u001b[0;36m_minimize_cobyla\u001b[0;34m(fun, x0, args, constraints, rhobeg, tol, maxiter, disp, catol, callback, bounds, **unknown_options)\u001b[0m\n\u001b[1;32m    275\u001b[0m \u001b[38;5;28;01mdef\u001b[39;00m \u001b[38;5;21m_jac\u001b[39m(x, \u001b[38;5;241m*\u001b[39margs):\n\u001b[1;32m    276\u001b[0m     \u001b[38;5;28;01mreturn\u001b[39;00m \u001b[38;5;28;01mNone\u001b[39;00m\n\u001b[0;32m--> 278\u001b[0m sf \u001b[38;5;241m=\u001b[39m _prepare_scalar_function(fun, x0, args\u001b[38;5;241m=\u001b[39margs, jac\u001b[38;5;241m=\u001b[39m_jac)\n\u001b[1;32m    280\u001b[0m \u001b[38;5;28;01mdef\u001b[39;00m \u001b[38;5;21mcalcfc\u001b[39m(x, con):\n\u001b[1;32m    281\u001b[0m     f \u001b[38;5;241m=\u001b[39m sf\u001b[38;5;241m.\u001b[39mfun(x)\n",
      "File \u001b[0;32m~/anaconda3/lib/python3.11/site-packages/scipy/optimize/_optimize.py:288\u001b[0m, in \u001b[0;36m_prepare_scalar_function\u001b[0;34m(fun, x0, jac, args, bounds, epsilon, finite_diff_rel_step, hess)\u001b[0m\n\u001b[1;32m    284\u001b[0m     bounds \u001b[38;5;241m=\u001b[39m (\u001b[38;5;241m-\u001b[39mnp\u001b[38;5;241m.\u001b[39minf, np\u001b[38;5;241m.\u001b[39minf)\n\u001b[1;32m    286\u001b[0m \u001b[38;5;66;03m# ScalarFunction caches. Reuse of fun(x) during grad\u001b[39;00m\n\u001b[1;32m    287\u001b[0m \u001b[38;5;66;03m# calculation reduces overall function evaluations.\u001b[39;00m\n\u001b[0;32m--> 288\u001b[0m sf \u001b[38;5;241m=\u001b[39m ScalarFunction(fun, x0, args, grad, hess,\n\u001b[1;32m    289\u001b[0m                     finite_diff_rel_step, bounds, epsilon\u001b[38;5;241m=\u001b[39mepsilon)\n\u001b[1;32m    291\u001b[0m \u001b[38;5;28;01mreturn\u001b[39;00m sf\n",
      "File \u001b[0;32m~/anaconda3/lib/python3.11/site-packages/scipy/optimize/_differentiable_functions.py:166\u001b[0m, in \u001b[0;36mScalarFunction.__init__\u001b[0;34m(self, fun, x0, args, grad, hess, finite_diff_rel_step, finite_diff_bounds, epsilon)\u001b[0m\n\u001b[1;32m    163\u001b[0m     \u001b[38;5;28mself\u001b[39m\u001b[38;5;241m.\u001b[39mf \u001b[38;5;241m=\u001b[39m fun_wrapped(\u001b[38;5;28mself\u001b[39m\u001b[38;5;241m.\u001b[39mx)\n\u001b[1;32m    165\u001b[0m \u001b[38;5;28mself\u001b[39m\u001b[38;5;241m.\u001b[39m_update_fun_impl \u001b[38;5;241m=\u001b[39m update_fun\n\u001b[0;32m--> 166\u001b[0m \u001b[38;5;28mself\u001b[39m\u001b[38;5;241m.\u001b[39m_update_fun()\n\u001b[1;32m    168\u001b[0m \u001b[38;5;66;03m# Gradient evaluation\u001b[39;00m\n\u001b[1;32m    169\u001b[0m \u001b[38;5;28;01mif\u001b[39;00m \u001b[38;5;28mcallable\u001b[39m(grad):\n",
      "File \u001b[0;32m~/anaconda3/lib/python3.11/site-packages/scipy/optimize/_differentiable_functions.py:262\u001b[0m, in \u001b[0;36mScalarFunction._update_fun\u001b[0;34m(self)\u001b[0m\n\u001b[1;32m    260\u001b[0m \u001b[38;5;28;01mdef\u001b[39;00m \u001b[38;5;21m_update_fun\u001b[39m(\u001b[38;5;28mself\u001b[39m):\n\u001b[1;32m    261\u001b[0m     \u001b[38;5;28;01mif\u001b[39;00m \u001b[38;5;129;01mnot\u001b[39;00m \u001b[38;5;28mself\u001b[39m\u001b[38;5;241m.\u001b[39mf_updated:\n\u001b[0;32m--> 262\u001b[0m         \u001b[38;5;28mself\u001b[39m\u001b[38;5;241m.\u001b[39m_update_fun_impl()\n\u001b[1;32m    263\u001b[0m         \u001b[38;5;28mself\u001b[39m\u001b[38;5;241m.\u001b[39mf_updated \u001b[38;5;241m=\u001b[39m \u001b[38;5;28;01mTrue\u001b[39;00m\n",
      "File \u001b[0;32m~/anaconda3/lib/python3.11/site-packages/scipy/optimize/_differentiable_functions.py:163\u001b[0m, in \u001b[0;36mScalarFunction.__init__.<locals>.update_fun\u001b[0;34m()\u001b[0m\n\u001b[1;32m    162\u001b[0m \u001b[38;5;28;01mdef\u001b[39;00m \u001b[38;5;21mupdate_fun\u001b[39m():\n\u001b[0;32m--> 163\u001b[0m     \u001b[38;5;28mself\u001b[39m\u001b[38;5;241m.\u001b[39mf \u001b[38;5;241m=\u001b[39m fun_wrapped(\u001b[38;5;28mself\u001b[39m\u001b[38;5;241m.\u001b[39mx)\n",
      "File \u001b[0;32m~/anaconda3/lib/python3.11/site-packages/scipy/optimize/_differentiable_functions.py:145\u001b[0m, in \u001b[0;36mScalarFunction.__init__.<locals>.fun_wrapped\u001b[0;34m(x)\u001b[0m\n\u001b[1;32m    141\u001b[0m \u001b[38;5;28mself\u001b[39m\u001b[38;5;241m.\u001b[39mnfev \u001b[38;5;241m+\u001b[39m\u001b[38;5;241m=\u001b[39m \u001b[38;5;241m1\u001b[39m\n\u001b[1;32m    142\u001b[0m \u001b[38;5;66;03m# Send a copy because the user may overwrite it.\u001b[39;00m\n\u001b[1;32m    143\u001b[0m \u001b[38;5;66;03m# Overwriting results in undefined behaviour because\u001b[39;00m\n\u001b[1;32m    144\u001b[0m \u001b[38;5;66;03m# fun(self.x) will change self.x, with the two no longer linked.\u001b[39;00m\n\u001b[0;32m--> 145\u001b[0m fx \u001b[38;5;241m=\u001b[39m fun(np\u001b[38;5;241m.\u001b[39mcopy(x), \u001b[38;5;241m*\u001b[39margs)\n\u001b[1;32m    146\u001b[0m \u001b[38;5;66;03m# Make sure the function returns a true scalar\u001b[39;00m\n\u001b[1;32m    147\u001b[0m \u001b[38;5;28;01mif\u001b[39;00m \u001b[38;5;129;01mnot\u001b[39;00m np\u001b[38;5;241m.\u001b[39misscalar(fx):\n",
      "Cell \u001b[0;32mIn[5], line 18\u001b[0m, in \u001b[0;36mvqe_objective\u001b[0;34m(params)\u001b[0m\n\u001b[1;32m     16\u001b[0m theta \u001b[38;5;241m=\u001b[39m params[\u001b[38;5;241m0\u001b[39m]\n\u001b[1;32m     17\u001b[0m kernel \u001b[38;5;241m=\u001b[39m make_ansatz(theta)\n\u001b[0;32m---> 18\u001b[0m \u001b[38;5;28;01mreturn\u001b[39;00m cudaq\u001b[38;5;241m.\u001b[39mobserve(H, kernel)\n",
      "File \u001b[0;32m~/anaconda3/lib/python3.11/site-packages/cudaq/runtime/observe.py:72\u001b[0m, in \u001b[0;36mobserve\u001b[0;34m(kernel, spin_operator, shots_count, noise_model, num_trajectories, execution, *args)\u001b[0m\n\u001b[1;32m     32\u001b[0m \u001b[38;5;28;01mdef\u001b[39;00m \u001b[38;5;21mobserve\u001b[39m(kernel,\n\u001b[1;32m     33\u001b[0m             spin_operator,\n\u001b[1;32m     34\u001b[0m             \u001b[38;5;241m*\u001b[39margs,\n\u001b[0;32m   (...)\u001b[0m\n\u001b[1;32m     37\u001b[0m             num_trajectories\u001b[38;5;241m=\u001b[39m\u001b[38;5;28;01mNone\u001b[39;00m,\n\u001b[1;32m     38\u001b[0m             execution\u001b[38;5;241m=\u001b[39m\u001b[38;5;28;01mNone\u001b[39;00m):\n\u001b[1;32m     39\u001b[0m \u001b[38;5;250m    \u001b[39m\u001b[38;5;124;03m\"\"\"Compute the expected value of the `spin_operator` with respect to \u001b[39;00m\n\u001b[1;32m     40\u001b[0m \u001b[38;5;124;03mthe `kernel`. If the input `spin_operator` is a list of `SpinOperator` then compute \u001b[39;00m\n\u001b[1;32m     41\u001b[0m \u001b[38;5;124;03mthe expected value of every operator in the list and return a list of results.\u001b[39;00m\n\u001b[0;32m   (...)\u001b[0m\n\u001b[1;32m     69\u001b[0m \u001b[38;5;124;03m    :class:`ObserveResult` will also contain a :class:`SampleResult` dictionary.\u001b[39;00m\n\u001b[1;32m     70\u001b[0m \u001b[38;5;124;03m    \"\"\"\u001b[39;00m\n\u001b[0;32m---> 72\u001b[0m     validityCheck \u001b[38;5;241m=\u001b[39m cudaq_runtime\u001b[38;5;241m.\u001b[39misValidObserveKernel(kernel)\n\u001b[1;32m     73\u001b[0m     \u001b[38;5;28;01mif\u001b[39;00m \u001b[38;5;129;01mnot\u001b[39;00m validityCheck[\u001b[38;5;241m0\u001b[39m]:\n\u001b[1;32m     74\u001b[0m         \u001b[38;5;28;01mraise\u001b[39;00m \u001b[38;5;167;01mRuntimeError\u001b[39;00m(\u001b[38;5;124m'\u001b[39m\u001b[38;5;124mobserve specification violated for \u001b[39m\u001b[38;5;130;01m\\'\u001b[39;00m\u001b[38;5;124m'\u001b[39m \u001b[38;5;241m+\u001b[39m\n\u001b[1;32m     75\u001b[0m                            kernel\u001b[38;5;241m.\u001b[39mname \u001b[38;5;241m+\u001b[39m \u001b[38;5;124m'\u001b[39m\u001b[38;5;130;01m\\'\u001b[39;00m\u001b[38;5;124m: \u001b[39m\u001b[38;5;124m'\u001b[39m \u001b[38;5;241m+\u001b[39m validityCheck[\u001b[38;5;241m1\u001b[39m])\n",
      "\u001b[0;31mAttributeError\u001b[0m: 'cudaq.mlir._mlir_libs._quakeDialects.cudaq_runtime' object has no attribute 'name'"
     ]
    }
   ],
   "source": [
    "import scipy.optimize\n",
    "from datetime import datetime\n",
    "import time\n",
    "\n",
    "start = datetime.now()   # Local start time\n",
    "\n",
    "def make_ansatz(theta: float):\n",
    "    @cudaq.kernel\n",
    "    def ansatz():\n",
    "        q = cudaq.qvector(4)\n",
    "        custom_excitation_gate(q, theta)\n",
    "    return ansatz\n",
    "\n",
    "# Define the objective function properly\n",
    "def vqe_objective(params):\n",
    "    theta = params[0]\n",
    "    kernel = make_ansatz(theta)\n",
    "    return cudaq.observe(H, kernel)\n",
    "\n",
    "# Run the optimization\n",
    "res = scipy.optimize.minimize(vqe_objective, [0.1], method='COBYLA')\n",
    "\n",
    "print(\"Optimal θ:\", res.x)\n",
    "print(\"Minimum energy:\", res.fun)\n",
    "\n",
    "end_time = datetime.now()\n",
    "\n",
    "print(f\"Started at: {start.strftime('%Y-%m-%d %H:%M:%S')}\")\n",
    "print(f\"Ended at:   {end.strftime('%Y-%m-%d %H:%M:%S')}\")\n",
    "print(f\"Total duration: {end - start}\")"
   ]
  }
 ],
 "metadata": {
  "colab": {
   "authorship_tag": "ABX9TyPb1mOu4synqokKfj0sPJyx",
   "include_colab_link": true,
   "provenance": []
  },
  "kernelspec": {
   "display_name": "Python 3 (ipykernel)",
   "language": "python",
   "name": "python3"
  },
  "language_info": {
   "codemirror_mode": {
    "name": "ipython",
    "version": 3
   },
   "file_extension": ".py",
   "mimetype": "text/x-python",
   "name": "python",
   "nbconvert_exporter": "python",
   "pygments_lexer": "ipython3",
   "version": "3.11.9"
  }
 },
 "nbformat": 4,
 "nbformat_minor": 4
}
