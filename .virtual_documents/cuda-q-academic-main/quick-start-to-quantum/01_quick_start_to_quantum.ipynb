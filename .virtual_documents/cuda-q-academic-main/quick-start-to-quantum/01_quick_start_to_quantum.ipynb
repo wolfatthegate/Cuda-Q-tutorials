# SPDX-License-Identifier: Apache-2.0 AND CC-BY-NC-4.0
#
# Licensed under the Apache License, Version 2.0 (the "License");
# you may not use this file except in compliance with the License.
# You may obtain a copy of the License at
#
# http://www.apache.org/licenses/LICENSE-2.0
#
# Unless required by applicable law or agreed to in writing, software
# distributed under the License is distributed on an "AS IS" BASIS,
# WITHOUT WARRANTIES OR CONDITIONS OF ANY KIND, either express or implied.
# See the License for the specific language governing permissions and
# limitations under the License.











## Instructions for Google Colab. You can ignore this cell if you have cuda-q set up and have 
# all the dependent files on your system
# Run this notebook in a CPU runtime
# Uncomment the lines below and execute the cell to install cuda-q

# !pip install cudaq

# !wget -q https://github.com/nvidia/cuda-q-academic/archive/refs/heads/main.zip
# !unzip -q main.zip
# !mv cuda-q-academic-main/quick-start-to-quantum/interactive_widget ./interactive_widget


# install `qutip` and `ipywidgets` in the current Python kernel. Skip this if they are already installed.
# `matplotlib` is required for all visualization tasks.
# Make sure to restart your kernel if you execute this!
# In a Jupyter notebook, go to the menu bar > Kernel > Restart Kernel.
# In VSCode, click on the Restart button in the Jupyter toolbar.

# The '\' before the '>' operator is so that the shell does not misunderstand
# the '>' qualifier for the bash pipe operation.

import sys

try:
    import matplotlib.pyplot as plt
    import qutip
    import ipywidgets as widgets

except ImportError:
    print("Tools not found, installing. Please restart your kernel after this is done.")
    !{sys.executable} -m pip install qutip\>=5 matplotlib\>=3.5
    !{sys.executable} -m pip install ipywidgets
    print("\nNew libraries have been installed. Please restart your kernel!")


# Necessary packages

import cudaq
import numpy as np
import ipywidgets as widgets
from ipywidgets import interactive_output, HBox, VBox
from IPython.display import display, clear_output


















# Execute this cell to enable the interactive widget

import sys
sys.path.append('interactive_widget')
from bloch_sphere_rotation import create_rotation_widget

# Create and display a new widget
widget = create_rotation_widget()
display(widget)






# Execute this cell to visualize the state |ψ⟩ = cos(θ/2)|0⟩ + sin(θ/2)e^{iφ}|1⟩ on the Bloch Sphere
import sys
sys.path.append('interactive_widget')
from bloch_sphere_state_visualization import create_state_widget

# Create and display a new widget
widget = create_state_widget()
display(widget)












# Defining the minus state in CUDA-Q

# First we define a vector of complex numbers
# for the coefficients alpha and beta
# of the state |psi> = alpha|0> + beta|1>, 
# where alpha = 1/sqrt(2)+0j and beta = -1/sqrt(2)+0j
c = [complex(np.sqrt(2)/2, 0), complex(-np.sqrt(2)/2,0)]
 
# Define a cudaq.kernel to represent the minus state
@cudaq.kernel
def minus_state():
    q = cudaq.qvector(c)





# Visualizing a state in CUDA-Q

# Define a sphere object representing the state of the single qubit
sphere = cudaq.add_to_bloch_sphere(cudaq.get_state(minus_state))

# Display the Bloch sphere
cudaq.show(sphere)

# Save the Bloch sphere image to a file
sphere.save('MinusState.png')






# EXERCISE 1

# First we define vectors for the coefficients alpha and beta
# of the states |0>, |1>, |+>, and |i>, where each state is written
# in the form |psi> = alpha|0> + beta|1> . Here alpha and beta are
# of the form:
# alpha = a_real + (a_imaginary)i 
# beta = b_real + (b_imaginary)i 
# with real values for the coefficients 
# a_real, a_imaginary, b_real, b_imaginary 

# c0 is a list of complex coefficients for the state |0>
c0 = [complex(1, 0), complex(0, 0)] ###FIX_ME### 
c1 = [complex(0, 0), complex(1, 0)] ###FIX_ME###      # list of complex coefficients for the state |1>
c2 = [complex(1/np.sqrt(2), 0), complex(1/np.sqrt(2), 0)]      # list of complex coefficients for the state |+>
c3 = [complex(1/np.sqrt(2), 0), complex(0, 1/np.sqrt(2))] ###FIX_ME###      # list of complex coefficients for the state |i>

list_of_states = [c0,c1,c2,c3]

# Define a cudaq.kernel to represent the state with given coefficients
@cudaq.kernel
def kernel_for_state(c:list[complex]):
    q = cudaq.qvector(c)

# Define a list of Bloch spheres, one sphere for each of the 4 states 
blochSphereList = []  
# Generate the 4 states by calling the kernel_for_state kernel for each list of coefficients
for c in list_of_states:
    sphere = cudaq.add_to_bloch_sphere(cudaq.get_state(kernel_for_state, c))
    blochSphereList.append(sphere)  

# Display the Bloch spheres side by side in 2 rows and 2 columns
cudaq.show(blochSphereList, nrows=1, ncols=4)








# Writing a bit flip program one step at a time
# Step 1: Create a kernel with one qubit initialized in the zero state

@cudaq.kernel
def bitflip(): 
    # Allocate one qubit to the kernel. It is by default initialized in the zero state
    qubit = cudaq.qvector(1)
    
    # Manipulate the quantum state by applying the bit flip gate (the `x` gate)
    # To be completed later in this section
    
    





# Visualizing a state of the bitflip kernel before the x gate is applied

# Define a sphere object representing the state of the single qubit
sphere = cudaq.add_to_bloch_sphere(cudaq.get_state(bitflip))

# Display the Bloch sphere
cudaq.show(sphere)





# Writing a bit flip program one step at a time
# Step 2: Apply the X-gate

@cudaq.kernel
def bitflip(): 
    # Allocate 1 qubit initialized in the zero state
    qubit = cudaq.qvector(1)
    
    # Manipulate the quantum state by applying the bit flip gate (the `x` gate)
    x(qubit[0]) # Apply the x-gate to the first qubit, which is indexed with 0
  
   





# Visualizing the action of the bitflip kernel

sphere = cudaq.add_to_bloch_sphere(cudaq.get_state(bitflip))
cudaq.show(sphere)





# Drawing the circuit representation of the bit flip kernel 
    
print(cudaq.draw(bitflip))








# Sampling the bit flip kernel
shots = 123
results = cudaq.sample(bitflip, shots_count=shots)

# The output of the sample command looks like a dictionary, but is of a different type
print("Results from sampling {} times: {}\n".format(shots, results))
print("Although the results appear to be of type dict, \n the type of the results from the sample \n command is {}.\n".format(type(results)))

# Often it will be useful to identify the most probable outcome
# and the probability of this outcome
most_probable_result = results.most_probable()
probability = results.probability(most_probable_result)
print("Most probable result: " + most_probable_result)
print("Measured with probability " + str(probability), end='\n\n')





















# Kernel for the minus state

@cudaq.kernel
def minus_kernel():
    # Allocate a qubit
    qvector = cudaq.qvector(1)
    
    # Initialize the state |1>
    x(qvector)
    
    # Apply the Hadamard gate
    h(qvector)
    
# Draw the circuit to check our work
print(cudaq.draw(minus_kernel))





# EXERCISE 2

# Visualizing the action of the minus_kernel

sphere = cudaq.add_to_bloch_sphere(cudaq.get_state(minus_kernel)) ##FIX_ME##
cudaq.show(sphere)





# Sampling the minus kernel
shots = 10000
results = cudaq.sample(minus_kernel, shots_count=shots)
print("Results from sampling {} times: {}".format(shots, results))

# Often it will be useful to identify the most probable outcome
# and the probability of this outcome
most_probable_result = results.most_probable()
probability = results.probability(most_probable_result)
print("Most probable result: " + most_probable_result)
print("Measured with probability " + str(probability), end='\n\n')











# Sampling the minus kernel
shots = 1
results = cudaq.sample(minus_kernel, shots_count=shots)
print("Results from sampling {} time: {}".format(shots, results))






# Execute this cell to visualize Born's Rule for the state |ψ⟩ = cos(θ/2)|0⟩ + sin(θ/2)e^{iφ}|1⟩ along with its Bloch sphere representation
import sys
sys.path.append('interactive_widget')
from borns_rule import create_borns_rule_widget

# Create and display a new widget
widget = create_borns_rule_widget()
display(widget)





# EXERCISE 3
# Sampling the minus kernel
shots = 1000000 ###FIX_ME###
results = cudaq.sample(minus_kernel, shots_count=shots)
print("Results from sampling {} times: {}".format(shots, results))

# Often it will be useful to identify the most probable outcome
# and the probability of this outcome
most_probable_result = results.most_probable()
probability = results.probability(most_probable_result)
print("Most probable result: " + most_probable_result)
print("Measured with probability " + str(probability), end='\n\n')









# Kernel for the plus state
@cudaq.kernel
def plus_kernel():
    
    # Allocate a qubit
    # Initialize the state |0>
    one_qubit = cudaq.qubit()    
    # Apply the Hadamard gate
    h(one_qubit)
 
    # Specify the measurement
    mz(one_qubit)
    
    
# Draw the circuit to check our work
print(cudaq.draw(plus_kernel))

# Sampling the minus kernel
shots = 1000
results = cudaq.sample(plus_kernel, shots_count=shots)
print(results)

# Often it will be useful to identify the most probable outcome
# and the probability of this outcome
most_probable_result = results.most_probable()
probability = results.probability(most_probable_result)
print("Most probable result: " + most_probable_result)
print("Measured with probability " + str(probability), end='\n\n')












# EXERCISE 4

shots = 1000

@cudaq.kernel
def plus_measure_x():
    ## EDIT CODE BELOW THIS LINE
    # Initialize the state |0>
    one_qubit = cudaq.qubit()    
    # Apply the Hadamard gate
    h(one_qubit)
 
    # Specify the measurement
    mx(one_qubit)    

    
    ## EDIT CODE ABOVE THIS LINE

@cudaq.kernel
def minus_measure_x():
    ## EDIT CODE BELOW THIS LINE
    # Allocate a qubit
    qvector = cudaq.qvector(1)
    
    # Initialize the state |1>
    x(qvector)
    
    # Apply the Hadamard gate
    h(qvector)    
    mx(qvector)  
    ## EDIT CODE ABOVE THIS LINE
    
results_plus_measure_x = cudaq.sample(plus_measure_x, shots_count=shots)
print("Results from sampling the plus_hadamard kernel {} times: {}".format(shots, results_plus_measure_x))

results_minus_measure_x = cudaq.sample(minus_measure_x, shots_count=shots)
print("Results from sampling the minus_hadamard kernel {} times: {}".format(shots, results_minus_measure_x))






