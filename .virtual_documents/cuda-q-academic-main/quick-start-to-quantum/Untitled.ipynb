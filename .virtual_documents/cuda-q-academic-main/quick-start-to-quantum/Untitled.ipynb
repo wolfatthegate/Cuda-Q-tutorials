def encoded_integer(binary_rep: list[int]):
    """Kernel takes as input a list of qubits and the binary representation
    of an integer as a list. The kernel adds X-gates to the qubits to encode
    the binary list, placing an X gate on qubit i if there is a 1 in the ith location
    on the binary_rep list"""
    # Edit code below this line
    for i in range(len(binary_rep)):
        if binary_rep[-1 - i] == 1:
            print(1)
        else: 
            print(0)


encoded_integer([1,0,0,1])


def decimal_to_binary_list(number):
    # Check if the input number is valid (non-negative integer)
    if number < 0:
        raise ValueError("Number must be a non-negative integer.")

    # Convert the number to binary using bin() function and strip the '0b' prefix
    binary_string = bin(number)[2:]

    # Convert the binary string to a list of integers (0s and 1s)
    binary_list = [int(bit) for bit in binary_string]

    return binary_list


print(decimal_to_binary_list(20))


encoded_integer([1, 0, 1, 0, 0])


enclist = []
enclist.append(1)
enclist.append(0)


enclist



